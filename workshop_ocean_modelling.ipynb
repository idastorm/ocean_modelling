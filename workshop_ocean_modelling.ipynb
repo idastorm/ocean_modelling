{
 "cells": [
  {
   "cell_type": "markdown",
   "metadata": {},
   "source": [
    "<img src=\"ohio_state_gu_logos.PNG\" width=\"400\" align=\"left\"/>"
   ]
  },
  {
   "cell_type": "markdown",
   "metadata": {},
   "source": [
    "<a id='section0'></a>\n",
    "\n",
    "<br>\n",
    "\n",
    "## _Ocean modelling workshop 2020_\n",
    "<br> \n",
    "\n",
    "\n",
    "<ol>\n",
    "    <li>Overview</li><br>\n",
    "        <ol>\n",
    "            <li><a href='#section1'>Input data</a></li><br>\n",
    "            <li><a href='#section2'>Basic model operation</a></li><br>        \n",
    "            <li><a href='#section3'>Model output </a></li><br>\n",
    "            <li><a href='#section4'>Preprocessing output</a></li><br>\n",
    "        </ol>\n",
    "    <li>Data pre-processing</li><br>\n",
    "        <ol>\n",
    "            <li><a href='#section5'>Currents</a></li><br>\n",
    "            <li><a href='#section6'>Winds</a></li><br>        \n",
    "            <li><a href='#section7'>Land/Ocean Distribution, Departure Points, Distance Grid (Grid directory) </a></li><br>\n",
    "        </ol>   \n",
    "    <li>The simulation</li><br>\n",
    "        <ol>\n",
    "            <li><a href='#section8'>Generating the trajectories</a></li><br>\n",
    "            <li><a href='#section9'>Visualisting the results</a></li><br>        \n",
    "        </ol>"
   ]
  },
  {
   "cell_type": "markdown",
   "metadata": {},
   "source": [
    "<h3>Import all functions and python libraries needed</h3>"
   ]
  },
  {
   "cell_type": "code",
   "execution_count": 1,
   "metadata": {},
   "outputs": [],
   "source": [
    "from scipy.io import loadmat, savemat\n",
    "import numpy as np\n",
    "import folium\n",
    "import pickle\n",
    "%run functions.ipynb"
   ]
  },
  {
   "cell_type": "markdown",
   "metadata": {},
   "source": [
    "<h2>1. Overview</h2>"
   ]
  },
  {
   "cell_type": "markdown",
   "metadata": {},
   "source": [
    "<a id='section1'></a>\n",
    "<h3>1A. Input data</h3>\n",
    "<p>The model requires three types of input data: currents, winds and land/ocean distribution. \n",
    "    All three must be homogenously distributed in space and time. This means gridded data with \n",
    "    constant delta lat and delta lon and available at constant intervals.  In our example, the\n",
    "    input land/ocean distribution is a 2D matrix with wind and current organized as 3D matrices \n",
    "    with time being the third dimension. To simplify computations, all input data are interpolated\n",
    "    into the same spatial and temporal resolution prior to their use in the simulation. This preparation \n",
    "    will take place in the next couple of cells</p>\n"
   ]
  },
  {
   "cell_type": "markdown",
   "metadata": {},
   "source": [
    "<a id='section2'></a>\n",
    "<h3>1B. Basic model operation</h3>\n",
    "<p>The model traces the displacement over time of “vessels” that move under the influence of winds and currents.\n",
    "Prior to the start of the simulation at least one point in space must be selected and the simulation consists \n",
    "of calculating and recording vessel change in position from this initial “departure point”. Usually more than\n",
    "one departure point is selected. Departure could be defined at any lat and lon combination within the domain\n",
    "of the model. Most times the model has been used, and this includes this example, departure points were selected \n",
    "at the center of data bins adjacent to land and/or center of data bins adjacent to bins adjacent to land. \n",
    "The model calculates and records vessel displacement until: a) the simulation ends, that is, the time limit set\n",
    "    at the start of the simulation is reached; b) the vessel moves into a land bin or within a pre-determined \n",
    "    distance to a land bin or; c) the vessel moves out of the model domain.  </p>"
   ]
  },
  {
   "cell_type": "markdown",
   "metadata": {},
   "source": [
    "<a id='section3'></a>\n",
    "<h3>1C. Model output</h3>\n",
    "<p>The model traces the displacement over time of “vessels” that move under the influence of winds and currents.\n",
    "Prior to the start of the simulation at least one point in space must be selected and the simulation consists \n",
    "of calculating and recording vessel change in position from this initial “departure point”. Usually more than\n",
    "one departure point is selected. Departure could be defined at any lat and lon combination within the domain\n",
    "of the model. Most times the model has been used, and this includes this example, departure points were selected \n",
    "at the center of data bins adjacent to land and/or center of data bins adjacent to bins adjacent to land. \n",
    "The model calculates and records vessel displacement until: a) the simulation ends, that is, the time limit set\n",
    "    at the start of the simulation is reached; b) the vessel moves into a land bin or within a pre-determined \n",
    "    distance to a land bin or; c) the vessel moves out of the model domain. </p>"
   ]
  },
  {
   "cell_type": "markdown",
   "metadata": {},
   "source": [
    "<a id='section4'></a>\n",
    "<h3>1D. Processing output</h3>\n",
    "<p>This is not done by the model and how the output is processed will depend on the questions being \n",
    "asked from the modeled data. Some basic information is usually required by most projects. This includes: \n",
    "    fraction of vessels departing from area A that reach some target area B and the average, maximum and\n",
    "    minimum duration of these trips and how date/season of voyage start influences voyage success.</p>"
   ]
  },
  {
   "cell_type": "markdown",
   "metadata": {},
   "source": [
    "<h2>2. Pre-processing</h2>\n",
    "<p>All input data needs some level of pre-processing before being ready for use by the model. Also, \n",
    "files containing information such as location of departure points or grid points in distance coordinates\n",
    "need to be generated. This is described below by explaining what different scripts (.m files) do, \n",
    "including required input files as well as output files generated for a particular .m file being described.\n",
    "Note that many output files become input files in subsequent steps.</p>\n"
   ]
  },
  {
   "cell_type": "markdown",
   "metadata": {},
   "source": [
    "<a id='section5'></a>\n",
    "<h3>2A. Currents</h3>\n",
    "<p>Surface currents come from the ECMWF Global Ocean Physics Reanalysis ORAP5.0, originally available as\n",
    "5-day mean values with approximate 0.25˚x0.25˚ spatial resolution covering the period between 1979-2013 \n",
    "(see the available catalogue and user manual for more info). This product is provided freely by ECMWF as\n",
    "files containing one year of data that are close to, but not in a constant dx-dy projection. In a step not\n",
    "discussed here the original ECMWF files were interpolated into daily values. </p>"
   ]
  },
  {
   "cell_type": "code",
   "execution_count": null,
   "metadata": {},
   "outputs": [],
   "source": [
    "#put code here\n",
    "#in example using already processed files. \n",
    "#hopefully we will get all data as netcdf-files, already interpolated and ready to be put on the server\n",
    "#and accessed directly here. "
   ]
  },
  {
   "cell_type": "markdown",
   "metadata": {},
   "source": [
    "<a id='section6'></a>\n",
    "<h3>2B. Land/Ocean Distribution, Departure Points, Distance Grid (Grid directory)</h3>\n",
    "<p>Surface currents come from the ECMWF Global Ocean Physics Reanalysis ORAP5.0, originally available as\n",
    "5-day mean values with approximate 0.25˚x0.25˚ spatial resolution covering the period between 1979-2013 \n",
    "(see the available catalogue and user manual for more info). This product is provided freely by ECMWF as\n",
    "files containing one year of data that are close to, but not in a constant dx-dy projection. In a step not\n",
    "discussed here the original ECMWF files were interpolated into daily values. </p>\n"
   ]
  },
  {
   "cell_type": "code",
   "execution_count": null,
   "metadata": {},
   "outputs": [],
   "source": [
    "#put code here\n",
    "#in example using already processed files. \n",
    "#hopefully we will get all data as netcdf-files, already interpolated and ready to be put on the server\n",
    "#and accessed directly here. "
   ]
  },
  {
   "cell_type": "markdown",
   "metadata": {},
   "source": [
    "<a id='section7'></a>\n",
    "<h3>3A. Generating the trajectories</h3>\n",
    "<p>Information here </p>\n"
   ]
  },
  {
   "cell_type": "markdown",
   "metadata": {},
   "source": [
    "<h3>Loading the data</h3>\n",
    "probably not needed once done, the data would be variables generated in pre-processing cells</p>"
   ]
  },
  {
   "cell_type": "code",
   "execution_count": 2,
   "metadata": {},
   "outputs": [],
   "source": [
    "#loading  departure points and other grid parameters\n",
    "\n",
    "#len 236 - number of departure points\n",
    "Dep_dist = loadmat('Dep_dist')['Dep_dist']\n",
    "\n",
    "#lon and lat depend on previously defined area (pro-processing to drift)\n",
    "#len=1 (list of lists), len[lon[0]]=106\n",
    "#-32 to -5.75 degrees\n",
    "lon = loadmat('Atl_lon.mat')['Atl_lon']\n",
    "\n",
    "#len[lat[0]]=95\n",
    "#20-43.5 degrees\n",
    "lat = loadmat('Atl_lat.mat')['Atl_lat']\n",
    "\n",
    "#len(X)= 95 len X[0]= 106\n",
    "X = loadmat('X_dist')['X_dist']\n",
    "\n",
    "#len 106\n",
    "Y = loadmat('Y_dist')['Y_dist']\n",
    "\n",
    "# vector with distance between x (e-w) grid points\n",
    "#len 95\n",
    "Dx = loadmat('Dx.mat')['Dx']\n",
    "# All rows in column 1\n",
    "Dx=Dx[:,0]\n",
    "\n",
    "# vector with distance between y (n-s) grid points\n",
    "#also len 95\n",
    "Dy = loadmat('Dy.mat')['Dy']\n",
    "# All rows in column 1\n",
    "Dy=Dy[:,0]\n",
    "\n",
    "MDx = max(Dx); # maximum distance between x grid points\n",
    "MDy = max(Dy); # maximum distance between y grid points\n",
    "\n",
    "#land ocean\n",
    "mask = loadmat('Mask')['Mask'][:,:,0]"
   ]
  },
  {
   "cell_type": "markdown",
   "metadata": {},
   "source": [
    "<h3>Select vessel type</h3>\n",
    "<p>\n",
    "  1) <b>Commercial Fishing Vessels</b>.  Include vessels from 45 to 100\n",
    "     feet long designed for fishing or shell fishing in coastal and\n",
    "     ocean waters.All have some form of deckhouse and an open area \n",
    "     from which nets can lines are worked. \n",
    "     Sl=0.04; Yt=0; Da=48;    Error, knosts=25.</li>\n",
    "\n",
    "  2) <b>Skiffs</b>.  Open boats less than 20 ft long.\n",
    "     USE - V-hull standard \n",
    "     Sl=0.03; Yt=0.08; Da=15; Error, knosts=0.10\n",
    "\n",
    "  3) <b>Mono-hull Sailing Vessel</b>.  It is assumed that all targets \n",
    "     in this category are adrift; therefore sails are down or \n",
    "     missing and the crew is unable to maneuver the vessel at all.\n",
    "     USE -  Fin Keel.\n",
    "     Sl=0.04; Yt=0; Da=48; Error, knosts=0.25\n",
    "\n",
    "  4) <b>Rustic raft with sail</b>. \n",
    "     USE -  sail\n",
    "     Sl=0.08; Yt=-0.17; Da=33; Error, knosts=0.15\n",
    "\n",
    "  5) <b>Rustic raft without sail</b>\n",
    "     USE - no sail  \n",
    "      Sl=0.015; Yt=0.17; Da=17; Error, knosts=0.05\n",
    "  \n",
    "  6) <b>Sea kayak</b>\n",
    "     USE 1 person\n",
    "      Sl=0.011; Yt=-0.24; Da=15; Error, knosts=0.10\n",
    "  \n",
    "Levison et al. parameters. Wind component of vessel movement\n",
    "is in the same direction of wind with speeds given \n",
    "by their Table 2, page 19 of the book. \n",
    "</p>"
   ]
  },
  {
   "cell_type": "code",
   "execution_count": 3,
   "metadata": {
    "scrolled": false
   },
   "outputs": [
    {
     "data": {
      "application/vnd.jupyter.widget-view+json": {
       "model_id": "8fab967ea17a4600adf772f2338eb0df",
       "version_major": 2,
       "version_minor": 0
      },
      "text/plain": [
       "interactive(children=(Dropdown(description='Vessel type', index=4, options=(('Commercial Fishing Vessels', 1),…"
      ]
     },
     "metadata": {},
     "output_type": "display_data"
    }
   ],
   "source": [
    "vessel=select_vessels()\n",
    "#add a type that Ling wanted"
   ]
  },
  {
   "cell_type": "code",
   "execution_count": 4,
   "metadata": {},
   "outputs": [
    {
     "name": "stdout",
     "output_type": "stream",
     "text": [
      "5\n"
     ]
    }
   ],
   "source": [
    "#just to show that it works! text above corresponds to numeric value (listed 1-7)\n",
    "print (vessel.value)"
   ]
  },
  {
   "cell_type": "markdown",
   "metadata": {},
   "source": [
    "<h3>Select additional user variables</h3>"
   ]
  },
  {
   "cell_type": "code",
   "execution_count": 5,
   "metadata": {},
   "outputs": [
    {
     "name": "stdout",
     "output_type": "stream",
     "text": [
      "What should the lenght of the simulations be (in days): 60\n"
     ]
    }
   ],
   "source": [
    "st= int(input('What should the lenght of the simulations be (in days): '))"
   ]
  },
  {
   "cell_type": "code",
   "execution_count": 6,
   "metadata": {},
   "outputs": [],
   "source": [
    "# THINGS TO CHANGE - put in widgets later\n",
    "\n",
    "# the original values will be in the comments\n",
    "\n",
    "# temporal resolution of input data in days. original value: 1\n",
    "DT = 1\n",
    "\n",
    "# length of simulation in days. original value: 60\n",
    "#already defined \n",
    "#st = 60\n",
    "\n",
    "# frequency, in days of voyage starts. original value: 5\n",
    "VoySt = 5\n",
    "\n",
    "# bin spatial overlap for data search. original value: 3/4\n",
    "ov = 3/4\n",
    "\n",
    "# type of vessel from USCG categories. original value: 5\n",
    "# only drift - 5. change here\n",
    "Vess = vessel.value\n",
    "\n",
    "# year to start simulation. original value: 1979. min. val: 1979, max val: 2012.\n",
    "start_year = 1979\n",
    "\n",
    "# year to end simulation. original value: 1979. min. val: 1979, max val: 2012.\n",
    "end_year = 1979"
   ]
  },
  {
   "cell_type": "code",
   "execution_count": 7,
   "metadata": {},
   "outputs": [],
   "source": [
    "# st and DT are is defined by inputs above\n",
    "# number of temporal frames of input data to be loaded (sn=st for DT=1...)\n",
    "sn = int(np.ceil(st / DT))\n",
    "\n",
    "# number of days*(seconds in a day)\n",
    "dt = DT * (24 * 60 * 60)"
   ]
  },
  {
   "cell_type": "markdown",
   "metadata": {},
   "source": [
    "## The voyaging starts\n",
    "\n",
    "The model will conduct and store voyages in an annual basis, hence the\n",
    "annual loop below. Remember that the input data is organized in annual\n",
    "files. Note that to full use of data, and as long as  simulations don't last\n",
    "more than 1 year, the subset of wind and current values to be used will\n",
    "come from a variable containg 2 years of data.\n",
    "This allows, for example, the conduction of 60 (or 1) day voyages initiated\n",
    "on Dec 31 of year yr. For simulations with drifts that last from 366\n",
    "to 730 days (366=< st <=730) the subset would have to include 3 years and so forth.\n",
    "\n",
    "the years used in the simulation can be adjusted by change the initial\n",
    "and final values of yr in the loop below. Notice that as written,\n",
    "yr=1979:1979, only one year of voyages will be simulated. To run simulations\n",
    "for example, from 1995 to 1999 the line would read\n",
    "for yr=1995:199. Note that since data ends in 2013, simulations can only \n",
    "start up to 2012"
   ]
  },
  {
   "cell_type": "code",
   "execution_count": 9,
   "metadata": {},
   "outputs": [],
   "source": [
    "for yr in range(start_year, end_year + 1):\n",
    "    # loading the wind and current data and concatenating 2 years together to\n",
    "    # permit drifts to start on any day of the year\n",
    "\n",
    "    # currents\n",
    "    iCa_cU_D_1 = loadmat('iCa_cU_D_' + str(yr))['iCa_cU_D_' + str(yr)]\n",
    "    iCa_cU_D_2 = loadmat('iCa_cU_D_' + str(yr + 1))['iCa_cU_D_' + str(yr + 1)]\n",
    "\n",
    "    # the line below joins two years\n",
    "    U2y = np.concatenate((iCa_cU_D_1, iCa_cU_D_2), axis=2)\n",
    "\n",
    "    iCa_cV_D_1 = loadmat('iCa_cV_D_' + str(yr))['iCa_cV_D_' + str(yr)]\n",
    "    iCa_cV_D_2 = loadmat('iCa_cV_D_' + str(yr + 1))['iCa_cV_D_' + str(yr + 1)]\n",
    "    V2y = np.concatenate((iCa_cV_D_1, iCa_cV_D_2), axis=2)\n",
    "\n",
    "    # winds\n",
    "    iCa_wU_D_1 = loadmat('iCa_wU_D_' + str(yr))['iCa_wU_D_' + str(yr)]\n",
    "    iCa_wU_D_2 = loadmat('iCa_wU_D_' + str(yr + 1))['iCa_wU_D_' + str(yr + 1)]\n",
    "    wU2y = np.concatenate((iCa_wU_D_1, iCa_wU_D_2), axis=2)\n",
    "\n",
    "    iCa_wV_D_1 = loadmat('iCa_wV_D_' + str(yr))['iCa_wV_D_' + str(yr)]\n",
    "    iCa_wV_D_2 = loadmat('iCa_wV_D_' + str(yr + 1))['iCa_wV_D_' + str(yr + 1)]\n",
    "    wV2y = np.concatenate((iCa_wV_D_1, iCa_wV_D_2), axis=2)\n",
    "\n",
    "    \n",
    "    c = 0\n",
    "    # this loop generates voyages every VoySt days of year yr\n",
    "    for day in range(1, 365, VoySt):\n",
    "        # this counter will be used to store results\n",
    "    \n",
    "        c = c + 1\n",
    "\n",
    "        # loading the input data for one starting day\n",
    "        # this extracts an st number of days of input data from the larger\n",
    "        # 2 year subset created above. Adoption of sn allows for the use of\n",
    "        # non-daily data.\n",
    "\n",
    "        U = U2y[:, :, day - 1: day + (sn - 1)]\n",
    "        V = V2y[:, :, day - 1: day + (sn - 1)]\n",
    "\n",
    "        WU = wU2y[:, :, day - 1: day + (sn - 1)]\n",
    "        WV = wV2y[:, :, day - 1: day + (sn - 1)]\n",
    "\n",
    "        # note that T will be the number of time stpes in the simulation\n",
    "        [L, C, T] = U.shape\n",
    "\n",
    "        # the next lines just creates a nan border around the current data\n",
    "        # as this helps when vessels move out of domain\n",
    "        # TODO this already seems to be the case\n",
    "        U[0, :, :] = np.nan\n",
    "        U[L -1, :, :] = np.nan\n",
    "        U[:, 0, :] = np.nan\n",
    "        U[:, C - 1, :] = np.nan\n",
    "\n",
    "        V[0, :, :] = np.nan\n",
    "        V[L - 1, :, :] = np.nan\n",
    "        V[:, 0, :] = np.nan\n",
    "        V[:, C - 1, :] = np.nan\n",
    "\n",
    "        # x and y will store e-w and n-s distance coordinates of all\n",
    "        # vessels for this st days length simulation.\n",
    "        # The x and y matrices created below are initally filled with nans.\n",
    "        # They have T lines, each one being a time step and length(Dep_dist)\n",
    "        # columns, each one representing a particular departure point\n",
    "        # That is, the first value of a particular column of variable x (y) is\n",
    "        # the starting e-w (n-s) distance corrdinate of a particular vessel at the\n",
    "        # departing point. The second value along the same column is the\n",
    "        # vessel's position after a period of DT days.\n",
    "\n",
    "        #2 dimensions- one row for each day (T) and one for each departure point\n",
    "        #departure points are in distance coordinates given 0,0 in lower left corner.\n",
    "        #x = np.full((T, len(Dep_dist)), np.nan)\n",
    "        #y = np.full((T, len(Dep_dist)), np.nan)\n",
    "        x = np.full((T, 3), np.nan)\n",
    "        y = np.full((T, 3), np.nan)\n",
    "\n",
    "        ##########################################################################################\n",
    "        #                   SPATIAL  LOOP STARTS\n",
    "        ##########################################################################################\n",
    "        # this loops goes through all departure points (vessels) and calculates,\n",
    "        # one departure point at a go their displacement for all st days.\n",
    "\n",
    "        # TODO: dimension of these arrays?\n",
    "        #num_spat_loops - how many time steps between the time (given how often run the simulation)\n",
    "        num_spat_loops = len(range(1, 365, VoySt))\n",
    "        \n",
    "        #Dep_dist.mat, y and x pairs for departure bins expressed in distance coordinates\n",
    "        #len dep_dist - number departures. \n",
    "        #xmm = np.zeros((T, len(Dep_dist), num_spat_loops))\n",
    "        #ymm = np.zeros((T, len(Dep_dist), num_spat_loops))\n",
    "        xmm = np.zeros((T, 3, num_spat_loops))\n",
    "        ymm = np.zeros((T, 3, num_spat_loops))\n",
    "        \n",
    "        #once for each departure point\n",
    "        #for IP in range(1, len(Dep_dist)):\n",
    "        for IP in range(1, 3):\n",
    "\n",
    "            #x and y - were filled with nan first.\n",
    "            #first time (T=0 --> x[0, 0] - second zero from IP-1 (IP starts at 1)\n",
    "            #fetch from first distance coordinate pair in Dep_dist\n",
    "            x[0, IP - 1] = Dep_dist[IP - 1, 1] # position matrix (time,drifter(starting point))\n",
    "            y[0, IP - 1] = Dep_dist[IP - 1, 0]\n",
    "\n",
    "            ##########################################################################\n",
    "            #                   TEMPORAL  LOOP STARTS\n",
    "            ##########################################################################\n",
    "            #60 zeros (60= lenght of simulation in days)\n",
    "            LU = np.zeros(shape=(T,))\n",
    "            \n",
    "            #60 zeros\n",
    "            LV = np.zeros(shape=(T,))\n",
    "            \n",
    "            #60 zeros\n",
    "            W_LU = np.zeros(shape=(T,))\n",
    "            \n",
    "            #60 zeros\n",
    "            W_LV = np.zeros(shape=(T,))\n",
    "            \n",
    "            for t in range(1, T):\n",
    "                #### defining the search  radius, since the distance grid is\n",
    "                #### not constant\n",
    "\n",
    "                # Ly is the (are) position(s) in the Y dist vector -Y(:,1)-\n",
    "                # found within a bit over one maximum distance between y grid\n",
    "                # points - MDy. If no Y values are found within ~1xMDy\n",
    "                # of the present y location of the vessel, given by y(t,IP),\n",
    "                # the find stament will result in Ly=nan.\n",
    "                \n",
    "                #the first day of simulation (t=1), for the first departure point (IP = 1, the last loop)\n",
    "                #this will be the distnace coordinate given the first departure point the first day.\n",
    "                #change every time - first IP will stay the same (looping over all departure points)\n",
    "                #and only t will change (between 1-60 for the 60 days simulation)\n",
    "                #then it will be the next departure point and it will be looped over 60 times here for a 60\n",
    "                #days simulation\n",
    "                tmp1 = y[t-1, IP - 1]\n",
    "                \n",
    "                #unless it is nan \n",
    "                #filled with nan originally (x and y). \n",
    "                #will be nan if gone out of the domain (then will have no distance coordinate pair, hence fetch nan here)\n",
    "                if not np.isnan(tmp1):\n",
    "                    \n",
    "                    #1,1 * maximum distance between cells in y direction\n",
    "                    tmp2 = (1.1 * MDy) / 2\n",
    "                    rows = Y[:, 0]\n",
    "                    #distance coordinates y - find the correct one moving into (buffer at least)\n",
    "                    #rows smaller than or equal to tmp1 (the distance coordinate \"on\") + ((max distance * 1,1)/2)\n",
    "                    Ly = np.where(np.logical_and(rows <= (tmp1 + tmp2), rows >= (tmp1 - tmp2)))[0]\n",
    "                else:\n",
    "                    Ly = np.nan\n",
    "\n",
    "                # the if statement below makes sure the vessel is within\n",
    "                # the domain. That is, if Ly=nan the execution of the code\n",
    "                # jumps to line 292 (current version) and vessel postion is not updated\n",
    "\n",
    "                #if not move a whole cell though? would that be 0 if it happens\n",
    "                # TODO: len(Ly) != 0 added by maria, since it crashes otherwise. seems like Ly never become empty in matlab-version though...\n",
    "                if not np.any(np.isnan(Ly)) and len(Ly) != 0:\n",
    "                    if len(Ly) == 1: # if only one location is found\n",
    "                        Sy = Dy[Ly]   # the size of the search radius will be\n",
    "                        Sx = Dx[Ly]   # based on the x and y grid size at that n-s position\n",
    "                    else:\n",
    "                        # if more than one location is found\n",
    "                        # the grid size closest to\n",
    "                        # the drifter position is\n",
    "                        # selected for the search radius\n",
    "                        locations = Ly\n",
    "                        diff = np.abs(Y[Ly, 0] - y[t - 1, IP - 1])\n",
    "                        m = np.min(diff)\n",
    "                        ll = np.where(diff == m)\n",
    "                        #search 'radius'\n",
    "                        Sy = Dy[locations[ll]]\n",
    "                        Sx = Dx[locations[ll]]\n",
    "                    #### the indices (locations in the data set) for local velocity\n",
    "                    # the line below, using the Sy \"search radius\" finds the locations of\n",
    "                    # bins from which to obtain local currents. Note that here is where the\n",
    "                    # overlap ov value is used.\n",
    "                    rows = Y[:, 0]\n",
    "                    Yi = np.where(np.logical_and(rows <= tmp1 + (ov * Sy), rows >= tmp1 - (ov * Sy)).flatten())[0]  # one dimension\n",
    "                    # if only one y index (or location) is found, the possible x indeces come\n",
    "                    # from only that y index, otherwise, as with the\n",
    "                    # search radius, the y index  closest to the drifter is chosen as\n",
    "                    # the y index used to search for the x indices.\n",
    "                    if len(Yi) == 1:\n",
    "                        pxi = X[Yi, :] # this line determines a vector with e-w values at the right n-s position (index)\n",
    "                        # this line selects the x indices for the search\n",
    "                        Xi = np.where(np.logical_and(pxi <= x[t -1, IP -1] + (ov*Sx), pxi >= x[t -1, IP -1] - (ov*Sx)).flatten())[0]\n",
    "                    else:\n",
    "                        locations = Yi\n",
    "                        diff = np.abs(Y[Yi, 0] - y[t - 1, IP - 1])\n",
    "                        mm = np.min(diff)\n",
    "                        ipY = np.where(diff == mm)\n",
    "                        xYi = locations[ipY]\n",
    "                        pxi = X[xYi, :]\n",
    "                        tmp1 = x[t - 1, IP - 1]\n",
    "                        tmp2 = ov * Sx\n",
    "                        Xi = np.where(np.logical_and(pxi <= tmp1 + tmp2, pxi >= tmp1 - tmp2))\n",
    "                    ########## the local velocities mean, taking care to remove NaN\n",
    "\n",
    "                    # the loop below generates provisory mean local U and V\n",
    "                    # velocity compoents using the Yi and Xi indeces\n",
    "                    # calculate above. Note that pLU and pLV will have\n",
    "                    # length i, and in the case of i>1 each value is made\n",
    "                    # up of a partial area average and some of these\n",
    "                    # averages might be nans. Notice the t index, to show\n",
    "                    # the current data is being extracted from the right\n",
    "                    # time slice.\n",
    "                    pLU = np.zeros(shape=(len(Yi),))\n",
    "                    pLV = np.zeros(shape=(len(Yi),))\n",
    "                    for i in range(1, len(Yi) + 1):\n",
    "                        U_area = U[Yi[i - 1], Xi, t - 1]\n",
    "                        iU_data = np.where(np.logical_not(np.isnan(U_area)))\n",
    "                        pLU[i - 1] = np.mean(U_area[iU_data])\n",
    "\n",
    "                        V_area = V[Yi[i - 1], Xi, t - 1]\n",
    "                        iV_data = np.where(np.logical_not(np.isnan(V_area)))\n",
    "                        pLV[i - 1] = np.mean(V_area[iV_data])\n",
    "\n",
    "                    ipLU_data = np.where(np.logical_not(np.isnan(pLU)))\n",
    "                    ipLV_data = np.where(np.logical_not(np.isnan(pLV)))\n",
    "                    # the lines above select the non-nan values in pLu and\n",
    "                    # pLV and averages them to finaly produe LU and LV.\n",
    "                    # The use of a t index means LU and LV will be stored\n",
    "                    # for each time step for a particular vessel.This information\n",
    "                    # could (but presently is not) saved for future\n",
    "                    # reference.\n",
    "                    LU[t - 1] = np.mean(pLU[ipLU_data])  ### Local U ocean\n",
    "                    LV[t - 1] = np.mean(pLV[ipLV_data])  ### Local V ocean\n",
    "\n",
    "                    if np.isnan(LU[t - 1]) or np.isnan(LV[t -1]): # wind does not operate\n",
    "                        # on landed vessels\n",
    "                        W_LU[t - 1] = 0\n",
    "                        W_LV[t - 1] = 0\n",
    "\n",
    "                    # the lines below extract wind values at the Yi and Xi\n",
    "                    # indexes and averages them to obtain local u and v\n",
    "                    # winds\n",
    "                    else:\n",
    "                        pw = WU[Yi, Xi, t - 1]\n",
    "                        W_LU[t - 1] = np.mean(pw[np.logical_not(np.isnan(pw))]) ### Local U atm.\n",
    "\n",
    "                        pw = WV[Yi, Xi, t - 1]\n",
    "                        W_LV[t - 1] = np.mean(pw[np.logical_not(np.isnan(pw))]) ### Local V atm.\n",
    "\n",
    "                    # LV_mat or local values matrix just organizes local\n",
    "                    # winds and currents in a 2x2 matrix. Not sure why I did it...\n",
    "\n",
    "                    LV_mat = np.array([[LU[t - 1], LV[t - 1]],      # Current U  Current V\n",
    "                                       [W_LU[t - 1], W_LV[t - 1]]]) # Wind    U  Wind    V\n",
    "\n",
    "                    iinn = np.where(np.isnan(LV_mat))\n",
    "                    LV_mat[iinn] = 0  # set nan displacements to zero\n",
    "\n",
    "                    ################# The drift ################################\n",
    "                    # T_drift[0] and [2] are the e-w and n-s displacements,\n",
    "                    # in km, over the period dt for a vessel type Vess\n",
    "                    # giving the average local winds and currents found in\n",
    "                    # LV_mat.\n",
    "                    T_drift = USCG_Drift1(LV_mat[1, :], LV_mat[0, :], dt, Vess)\n",
    "\n",
    "                    # the lines below add to the previous vessel location\n",
    "                    # the displacements calculated by the line above\n",
    "                    x[t, IP - 1] = x[t - 1, IP - 1] + T_drift[0]\n",
    "                    y[t, IP - 1] = y[t - 1, IP - 1] + T_drift[1]\n",
    "\n",
    "                    ###    Just making sure boats do not drift off the area\n",
    "                    if y[t, IP - 1] < 0:\n",
    "                        y[t, IP - 1] = y[t - 1, IP - 1]\n",
    "                    if x[t, IP - 1] < 0:\n",
    "                        x[t, IP - 1] = x[t - 1, IP - 1]\n",
    "                else:\n",
    "                    y[t, IP - 1] = y[t - 1, IP - 1]\n",
    "                    x[t, IP - 1] = x[t - 1, IP - 1]\n",
    "                # search radius out of drift area\n",
    "\n",
    "        # each x and y matrix contains a whole st days length positions\n",
    "        # for all sarting points, but remember that voyages start every\n",
    "        # 5 days so many starts are conducted by the code for a single year\n",
    "        # xmm is 3d with the each layer in the 3rd dimension containing the\n",
    "        # positions of all vessels during the st days of voyages starting\n",
    "        # at a particular starting day.\n",
    "        xmm[:, :, c - 1] = x\n",
    "        ymm[:, :, c - 1] = y\n",
    "\n",
    "    # after displacemnet for all starting days of a particular year\n",
    "    # are finished, these values are saved in PX_'year'.mat and PY_'year'.mat\n",
    "    # for example PX_1979.mat contains the x locations of all the vessels\n",
    "    # with simulation start days in 1979 (1979 btw, in case you did not know,\n",
    "    # was celebrated by the UN as \"International Year of the Child\"\n",
    "    savemat('PX_' + str(yr) + '.mat', {'PX_' + str(yr): xmm})\n",
    "    savemat('PY_' + str(yr) + '.mat', {'PY_' + str(yr): ymm})\n",
    "\n",
    "\n",
    "#### these lines are here just to visually check the first simulation\n",
    "PX_1979 = loadmat('PX_1979.mat')['PX_1979']\n",
    "PY_1979 = loadmat('PY_1979.mat')['PY_1979']\n",
    "\n",
    "PX = PX_1979[:,:, 29]\n",
    "PY = PY_1979[:,:, 29]\n",
    "\n",
    "PX2 = PX_1979[:,:, 69]\n",
    "PY2 = PY_1979[:,:, 69]\n",
    "\n",
    "#close all\n",
    "#figure(1)\n",
    "#pcolor(X,Y,mask); shading flat\n",
    "#hold on\n",
    "#plot(PX,PY,'xm')\n",
    "\n",
    "#figure(2)\n",
    "#pcolor(X,Y,mask); shading flat\n",
    "#hold on\n",
    "#plot(PX2,PY2,'xr')\n",
    "\n",
    "#figure(3)\n",
    "#pcolor(X,Y,mask); shading flat\n",
    "#hold on\n",
    "#for tt=1:73\n",
    "#plot(PX_1979(:,:,tt),PY_1979(:,:,tt))\n",
    "\n"
   ]
  },
  {
   "cell_type": "code",
   "execution_count": 40,
   "metadata": {},
   "outputs": [
    {
     "name": "stdout",
     "output_type": "stream",
     "text": [
      "[   0.            0.            0.            0.            0.\n",
      "    0.            0.            0.            0.            0.\n",
      "    0.            0.            0.            0.            0.\n",
      "    0.            0.            0.            0.            0.\n",
      "    0.            0.            0.            0.            0.\n",
      "    0.            0.            0.            0.            0.\n",
      "    0.            0.            0.            0.            0.\n",
      "    0.            0.            0.            0.            0.\n",
      "    0.            0.            0.            0.            0.\n",
      "    0.            0.            0.            0.            0.\n",
      "    0.            0.            0.            0.            0.\n",
      "    0.            0.            0.            0.            0.\n",
      "    0.            0.            0.            0.            0.\n",
      "    0.            0.            0.            0.            0.\n",
      "    0.            0.         1491.37596709]\n",
      "[  0.           0.           0.           0.           0.\n",
      "   0.           0.           0.           0.           0.\n",
      "   0.           0.           0.           0.           0.\n",
      "   0.           0.           0.           0.           0.\n",
      "   0.           0.           0.           0.           0.\n",
      "   0.           0.           0.           0.           0.\n",
      "   0.           0.           0.           0.           0.\n",
      "   0.           0.           0.           0.           0.\n",
      "   0.           0.           0.           0.           0.\n",
      "   0.           0.           0.           0.           0.\n",
      "   0.           0.           0.           0.           0.\n",
      "   0.           0.           0.           0.           0.\n",
      "   0.           0.           0.           0.           0.\n",
      "   0.           0.           0.           0.           0.\n",
      "   0.           0.         154.27994704]\n"
     ]
    }
   ],
   "source": [
    "PX_1979 = loadmat('PX_1979.mat')['PX_1979']\n",
    "\n",
    "PY_1979 = loadmat('PY_1979.mat')['PY_1979']\n",
    "\n",
    "day=5\n",
    "#73\n",
    "#day 0 - 1477\n",
    "#day 1 - 1480\n",
    "#day 2 - 1484\n",
    "#day 3 - 1491\n",
    "#day 4 - 1490\n",
    "#day 5 - 1491\n",
    "print(PX_1979[day][0])\n",
    "#day 0 - 139\n",
    "#day 1 - 135\n",
    "#day 2 - 130\n",
    "#day 3 - 122\n",
    "#day 4 - 125\n",
    "#day 5 - 127\n",
    "\n",
    "#0, 1 or 2 för the last digit\n",
    "#because three different attempst ? \n",
    "print(PY_1979[day][1])\n",
    "\n",
    "#each array lenght 73 because should be 73 different voyages per year (365/5=73)\n",
    "#for the 73 different journes, where is the vessel on the first day (in distance coordinates)\n",
    "#what is the second? lenght 3 (here!) - the different starting points.- the loop that was supposed to be the \n",
    "#lenght of dep_dist"
   ]
  },
  {
   "cell_type": "markdown",
   "metadata": {},
   "source": [
    "<h2>Map: show the study area</h2>"
   ]
  },
  {
   "cell_type": "code",
   "execution_count": 41,
   "metadata": {
    "scrolled": false
   },
   "outputs": [
    {
     "data": {
      "text/html": [
       "<div style=\"width:100%;\"><div style=\"position:relative;width:100%;height:0;padding-bottom:60%;\"><iframe src=\"data:text/html;charset=utf-8;base64,PCFET0NUWVBFIGh0bWw+CjxoZWFkPiAgICAKICAgIDxtZXRhIGh0dHAtZXF1aXY9ImNvbnRlbnQtdHlwZSIgY29udGVudD0idGV4dC9odG1sOyBjaGFyc2V0PVVURi04IiAvPgogICAgCiAgICAgICAgPHNjcmlwdD4KICAgICAgICAgICAgTF9OT19UT1VDSCA9IGZhbHNlOwogICAgICAgICAgICBMX0RJU0FCTEVfM0QgPSBmYWxzZTsKICAgICAgICA8L3NjcmlwdD4KICAgIAogICAgPHNjcmlwdCBzcmM9Imh0dHBzOi8vY2RuLmpzZGVsaXZyLm5ldC9ucG0vbGVhZmxldEAxLjYuMC9kaXN0L2xlYWZsZXQuanMiPjwvc2NyaXB0PgogICAgPHNjcmlwdCBzcmM9Imh0dHBzOi8vY29kZS5qcXVlcnkuY29tL2pxdWVyeS0xLjEyLjQubWluLmpzIj48L3NjcmlwdD4KICAgIDxzY3JpcHQgc3JjPSJodHRwczovL21heGNkbi5ib290c3RyYXBjZG4uY29tL2Jvb3RzdHJhcC8zLjIuMC9qcy9ib290c3RyYXAubWluLmpzIj48L3NjcmlwdD4KICAgIDxzY3JpcHQgc3JjPSJodHRwczovL2NkbmpzLmNsb3VkZmxhcmUuY29tL2FqYXgvbGlicy9MZWFmbGV0LmF3ZXNvbWUtbWFya2Vycy8yLjAuMi9sZWFmbGV0LmF3ZXNvbWUtbWFya2Vycy5qcyI+PC9zY3JpcHQ+CiAgICA8bGluayByZWw9InN0eWxlc2hlZXQiIGhyZWY9Imh0dHBzOi8vY2RuLmpzZGVsaXZyLm5ldC9ucG0vbGVhZmxldEAxLjYuMC9kaXN0L2xlYWZsZXQuY3NzIi8+CiAgICA8bGluayByZWw9InN0eWxlc2hlZXQiIGhyZWY9Imh0dHBzOi8vbWF4Y2RuLmJvb3RzdHJhcGNkbi5jb20vYm9vdHN0cmFwLzMuMi4wL2Nzcy9ib290c3RyYXAubWluLmNzcyIvPgogICAgPGxpbmsgcmVsPSJzdHlsZXNoZWV0IiBocmVmPSJodHRwczovL21heGNkbi5ib290c3RyYXBjZG4uY29tL2Jvb3RzdHJhcC8zLjIuMC9jc3MvYm9vdHN0cmFwLXRoZW1lLm1pbi5jc3MiLz4KICAgIDxsaW5rIHJlbD0ic3R5bGVzaGVldCIgaHJlZj0iaHR0cHM6Ly9tYXhjZG4uYm9vdHN0cmFwY2RuLmNvbS9mb250LWF3ZXNvbWUvNC42LjMvY3NzL2ZvbnQtYXdlc29tZS5taW4uY3NzIi8+CiAgICA8bGluayByZWw9InN0eWxlc2hlZXQiIGhyZWY9Imh0dHBzOi8vY2RuanMuY2xvdWRmbGFyZS5jb20vYWpheC9saWJzL0xlYWZsZXQuYXdlc29tZS1tYXJrZXJzLzIuMC4yL2xlYWZsZXQuYXdlc29tZS1tYXJrZXJzLmNzcyIvPgogICAgPGxpbmsgcmVsPSJzdHlsZXNoZWV0IiBocmVmPSJodHRwczovL3Jhd2Nkbi5naXRoYWNrLmNvbS9weXRob24tdmlzdWFsaXphdGlvbi9mb2xpdW0vbWFzdGVyL2ZvbGl1bS90ZW1wbGF0ZXMvbGVhZmxldC5hd2Vzb21lLnJvdGF0ZS5jc3MiLz4KICAgIDxzdHlsZT5odG1sLCBib2R5IHt3aWR0aDogMTAwJTtoZWlnaHQ6IDEwMCU7bWFyZ2luOiAwO3BhZGRpbmc6IDA7fTwvc3R5bGU+CiAgICA8c3R5bGU+I21hcCB7cG9zaXRpb246YWJzb2x1dGU7dG9wOjA7Ym90dG9tOjA7cmlnaHQ6MDtsZWZ0OjA7fTwvc3R5bGU+CiAgICAKICAgICAgICAgICAgPG1ldGEgbmFtZT0idmlld3BvcnQiIGNvbnRlbnQ9IndpZHRoPWRldmljZS13aWR0aCwKICAgICAgICAgICAgICAgIGluaXRpYWwtc2NhbGU9MS4wLCBtYXhpbXVtLXNjYWxlPTEuMCwgdXNlci1zY2FsYWJsZT1ubyIgLz4KICAgICAgICAgICAgPHN0eWxlPgogICAgICAgICAgICAgICAgI21hcF9mNmM3NDhlN2QxNWM0YmJkOTIwYjIwMmNlNGIzYTJkMSB7CiAgICAgICAgICAgICAgICAgICAgcG9zaXRpb246IHJlbGF0aXZlOwogICAgICAgICAgICAgICAgICAgIHdpZHRoOiAxMDAuMCU7CiAgICAgICAgICAgICAgICAgICAgaGVpZ2h0OiAxMDAuMCU7CiAgICAgICAgICAgICAgICAgICAgbGVmdDogMC4wJTsKICAgICAgICAgICAgICAgICAgICB0b3A6IDAuMCU7CiAgICAgICAgICAgICAgICB9CiAgICAgICAgICAgIDwvc3R5bGU+CiAgICAgICAgCjwvaGVhZD4KPGJvZHk+ICAgIAogICAgCiAgICAgICAgICAgIDxkaXYgY2xhc3M9ImZvbGl1bS1tYXAiIGlkPSJtYXBfZjZjNzQ4ZTdkMTVjNGJiZDkyMGIyMDJjZTRiM2EyZDEiID48L2Rpdj4KICAgICAgICAKPC9ib2R5Pgo8c2NyaXB0PiAgICAKICAgIAogICAgICAgICAgICB2YXIgbWFwX2Y2Yzc0OGU3ZDE1YzRiYmQ5MjBiMjAyY2U0YjNhMmQxID0gTC5tYXAoCiAgICAgICAgICAgICAgICAibWFwX2Y2Yzc0OGU3ZDE1YzRiYmQ5MjBiMjAyY2U0YjNhMmQxIiwKICAgICAgICAgICAgICAgIHsKICAgICAgICAgICAgICAgICAgICBjZW50ZXI6IFswLCAwXSwKICAgICAgICAgICAgICAgICAgICBjcnM6IEwuQ1JTLkVQU0czODU3LAogICAgICAgICAgICAgICAgICAgIHpvb206IDEsCiAgICAgICAgICAgICAgICAgICAgem9vbUNvbnRyb2w6IHRydWUsCiAgICAgICAgICAgICAgICAgICAgcHJlZmVyQ2FudmFzOiBmYWxzZSwKICAgICAgICAgICAgICAgIH0KICAgICAgICAgICAgKTsKCiAgICAgICAgICAgIAoKICAgICAgICAKICAgIAogICAgICAgICAgICB2YXIgdGlsZV9sYXllcl9hMmNhNDc0ODI0N2M0NTEwYTY4OThjN2U4MDM2ODBhZCA9IEwudGlsZUxheWVyKAogICAgICAgICAgICAgICAgImh0dHBzOi8ve3N9LnRpbGUub3BlbnN0cmVldG1hcC5vcmcve3p9L3t4fS97eX0ucG5nIiwKICAgICAgICAgICAgICAgIHsiYXR0cmlidXRpb24iOiAiRGF0YSBieSBcdTAwMjZjb3B5OyBcdTAwM2NhIGhyZWY9XCJodHRwOi8vb3BlbnN0cmVldG1hcC5vcmdcIlx1MDAzZU9wZW5TdHJlZXRNYXBcdTAwM2MvYVx1MDAzZSwgdW5kZXIgXHUwMDNjYSBocmVmPVwiaHR0cDovL3d3dy5vcGVuc3RyZWV0bWFwLm9yZy9jb3B5cmlnaHRcIlx1MDAzZU9EYkxcdTAwM2MvYVx1MDAzZS4iLCAiZGV0ZWN0UmV0aW5hIjogZmFsc2UsICJtYXhOYXRpdmVab29tIjogMTgsICJtYXhab29tIjogMTgsICJtaW5ab29tIjogMiwgIm5vV3JhcCI6IGZhbHNlLCAib3BhY2l0eSI6IDEsICJzdWJkb21haW5zIjogImFiYyIsICJ0bXMiOiBmYWxzZX0KICAgICAgICAgICAgKS5hZGRUbyhtYXBfZjZjNzQ4ZTdkMTVjNGJiZDkyMGIyMDJjZTRiM2EyZDEpOwogICAgICAgIAogICAgCiAgICAgICAgICAgIHZhciBwb2x5X2xpbmVfODMyYzk5Y2RkMmU5NDI4YWJhYzhlMzZmYjNmOTUzOGMgPSBMLnBvbHlsaW5lKAogICAgICAgICAgICAgICAgW1syMC4wLCAtMzIuMF0sIFs0My41LCAtMzIuMF0sIFs0My41LCAtNS43NV0sIFsyMC4wLCAtNS43NV0sIFsyMC4wLCAtMzIuMF1dLAogICAgICAgICAgICAgICAgeyJidWJibGluZ01vdXNlRXZlbnRzIjogdHJ1ZSwgImNvbG9yIjogIiMzMzg4ZmYiLCAiZGFzaEFycmF5IjogbnVsbCwgImRhc2hPZmZzZXQiOiBudWxsLCAiZmlsbCI6IGZhbHNlLCAiZmlsbENvbG9yIjogIiMzMzg4ZmYiLCAiZmlsbE9wYWNpdHkiOiAwLjIsICJmaWxsUnVsZSI6ICJldmVub2RkIiwgImxpbmVDYXAiOiAicm91bmQiLCAibGluZUpvaW4iOiAicm91bmQiLCAibm9DbGlwIjogZmFsc2UsICJvcGFjaXR5IjogMS4wLCAic21vb3RoRmFjdG9yIjogMS4wLCAic3Ryb2tlIjogdHJ1ZSwgIndlaWdodCI6IDN9CiAgICAgICAgICAgICkuYWRkVG8obWFwX2Y2Yzc0OGU3ZDE1YzRiYmQ5MjBiMjAyY2U0YjNhMmQxKTsKICAgICAgICAKICAgIAogICAgICAgICAgICBtYXBfZjZjNzQ4ZTdkMTVjNGJiZDkyMGIyMDJjZTRiM2EyZDEuZml0Qm91bmRzKAogICAgICAgICAgICAgICAgW1tbMjAuMCwgLTMyLjBdLCBbNDMuNSwgLTMyLjBdLCBbNDMuNSwgLTUuNzVdLCBbMjAuMCwgLTUuNzVdLCBbMjAuMCwgLTMyLjBdXV0sCiAgICAgICAgICAgICAgICB7fQogICAgICAgICAgICApOwogICAgICAgIAo8L3NjcmlwdD4=\" style=\"position:absolute;width:100%;height:100%;left:0;top:0;border:none !important;\" allowfullscreen webkitallowfullscreen mozallowfullscreen></iframe></div></div>"
      ],
      "text/plain": [
       "<folium.folium.Map at 0x1a4b46ff6d0>"
      ]
     },
     "execution_count": 41,
     "metadata": {},
     "output_type": "execute_result"
    }
   ],
   "source": [
    "#Carnary domain \n",
    "domain=[[min(lat[0]), min(lon[0])], [max(lat[0]), min(lon[0])], [max(lat[0]), max(lon[0])],[min(lat[0]), max(lon[0])],[min(lat[0]), min(lon[0])]]\n",
    "\n",
    "m = folium.Map(min_zoom=2)   \n",
    "\n",
    "folium.PolyLine(domain).add_to(m) \n",
    "\n",
    "#zoom in on domain\n",
    "m.fit_bounds([domain]) \n",
    "\n",
    "m"
   ]
  },
  {
   "cell_type": "markdown",
   "metadata": {},
   "source": [
    "<h2>Map: draw up study area (in progress)</h2>\n",
    "<p>Instead of writing the min/max bounds</p>"
   ]
  },
  {
   "cell_type": "code",
   "execution_count": 42,
   "metadata": {
    "scrolled": false
   },
   "outputs": [
    {
     "data": {
      "application/vnd.jupyter.widget-view+json": {
       "model_id": "8a0dcbd9503e40b582ca874786437928",
       "version_major": 2,
       "version_minor": 0
      },
      "text/plain": [
       "Map(center=[50, 354], controls=(ZoomControl(options=['position', 'zoom_in_text', 'zoom_in_title', 'zoom_out_te…"
      ]
     },
     "metadata": {},
     "output_type": "display_data"
    },
    {
     "name": "stdout",
     "output_type": "stream",
     "text": [
      "{'type': 'Feature', 'properties': {'style': {'stroke': True, 'color': '#0000FF', 'weight': 4, 'opacity': 0.5, 'fill': True, 'fillColor': None, 'fillOpacity': 0.2, 'clickable': True}}, 'geometry': {'type': 'Polygon', 'coordinates': [[[355.785381, 36.214141], [355.785381, 45.000544], [380.261258, 45.000544], [380.261258, 36.214141], [355.785381, 36.214141]]]}}\n"
     ]
    }
   ],
   "source": [
    "#created a python function rather than write out the whole code (see functions notbook)\n",
    "draw_studyarea()\n",
    "\n",
    "#would like to only make it possible to use the rectangle - or how hard would it be to allow for different shapes?\n",
    "#no way to use predefined code to alter the selection bar (to the left).\n",
    "#one to specify departure points - one map to specify arrival area (siccessful? - check if intersect)\n",
    "\n",
    "#already dep_points now. can use these directly - or have to be starting from the center of the cell closest to them? \n",
    "#select from predefined dep bins? \n",
    "\n",
    "#also, here option to save single clicks: https://github.com/jupyter-widgets/ipyleaflet/issues/258\n"
   ]
  },
  {
   "cell_type": "code",
   "execution_count": 43,
   "metadata": {},
   "outputs": [
    {
     "data": {
      "text/html": [
       "<div style=\"width:100%;\"><div style=\"position:relative;width:100%;height:0;padding-bottom:60%;\"><iframe src=\"data:text/html;charset=utf-8;base64,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\" style=\"position:absolute;width:100%;height:100%;left:0;top:0;border:none !important;\" allowfullscreen webkitallowfullscreen mozallowfullscreen></iframe></div></div>"
      ],
      "text/plain": [
       "<folium.folium.Map at 0x1a4b805b9d0>"
      ]
     },
     "execution_count": 43,
     "metadata": {},
     "output_type": "execute_result"
    }
   ],
   "source": [
    "#Study area using the values above.\n",
    "#about ipyleaflet coordinate system etc: https://github.com/jupyter-widgets/ipyleaflet/issues/280 \n",
    "load_area = \"study_area.txt\"\n",
    "with open(load_area, \"rb\") as f:\n",
    "    list_coordinates= pickle.load(f)\n",
    "\n",
    "#could put in as coordinate pairs instead - whatever is needed to define study area\n",
    "lat=[]\n",
    "lon=[]\n",
    "for indices in range(len(list_coordinates)):\n",
    "    \n",
    "    #note -360 to get into lat/lon\n",
    "    lon.append(list_coordinates[indices][0]-360)\n",
    "    lat.append(list_coordinates[indices][1])\n",
    "    \n",
    "domain=[[min(lat), min(lon)], [max(lat), min(lon)], [max(lat), max(lon)],[min(lat), max(lon)],[min(lat), min(lon)]]\n",
    "\n",
    "m = folium.Map(min_zoom=2)   \n",
    "\n",
    "folium.PolyLine(domain).add_to(m) \n",
    "\n",
    "#zoom in on domain\n",
    "m.fit_bounds([domain]) \n",
    "\n",
    "m"
   ]
  },
  {
   "cell_type": "code",
   "execution_count": 44,
   "metadata": {},
   "outputs": [
    {
     "name": "stdout",
     "output_type": "stream",
     "text": [
      "[-4.214619000000027, -4.214619000000027, 20.261257999999998, 20.261257999999998, -4.214619000000027]\n",
      "[36.214141, 45.000544, 45.000544, 36.214141, 36.214141]\n"
     ]
    }
   ],
   "source": [
    "print(lon)\n",
    "print(lat)"
   ]
  },
  {
   "cell_type": "code",
   "execution_count": null,
   "metadata": {},
   "outputs": [],
   "source": [
    "#which points are close to the coast/bordering the coast? \n",
    "#create points for all points in lat/lon that are close to the coastline - note to use only borders that \n",
    "#create fishnet - with lat/lon regular grid. Just need to know what they should be"
   ]
  },
  {
   "cell_type": "code",
   "execution_count": null,
   "metadata": {},
   "outputs": [],
   "source": [
    "#success along routes know they had? "
   ]
  }
 ],
 "metadata": {
  "kernelspec": {
   "display_name": "Python 3",
   "language": "python",
   "name": "python3"
  },
  "language_info": {
   "codemirror_mode": {
    "name": "ipython",
    "version": 3
   },
   "file_extension": ".py",
   "mimetype": "text/x-python",
   "name": "python",
   "nbconvert_exporter": "python",
   "pygments_lexer": "ipython3",
   "version": "3.8.3"
  }
 },
 "nbformat": 4,
 "nbformat_minor": 4
}
