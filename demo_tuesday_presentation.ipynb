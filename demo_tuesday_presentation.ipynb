{
 "cells": [
  {
   "cell_type": "markdown",
   "metadata": {},
   "source": [
    "# Ocean drift model\n",
    "<p style=\"font-size:17px;\">The model simulates ocean drift based on currents, winds and vessel type.\n",
    "Every day the expected speed and direction of the vessel is calculated and given a new position in accordance. \n",
    "The displacements from day to day result in vessel trajectories which are displayed as lines in the resulting map.\n",
    "Hovering over the trajectories will show the length in kilometers of the trajectory and the average speed. The length of the \n",
    "simulation in time is limited to the input parameter \"Max journey length\" which is specified by the user. If a vessel reaches land \n",
    "or travels outside the user specified simulation area before then, the simulation will end for that vessel. <br>\n",
    "\"Launch interval\" is another parameter in the model and indicates how often new vessels should be launched in the simulation.\n",
    "The first launch of vessels will happen during the user specified start date, and then for example every five days if \n",
    "the launch interval is set to five. <br><br>\n",
    "Start the simulation by drawing a rectangle over the area in which the vessels can drift, specify all the parameters,\n",
    "and click on \"Run simulation\". Depending on the input parameters, it can take a while: the progress bar will indicate \n",
    "how much longer it will take to finish. </p>"
   ]
  },
  {
   "cell_type": "markdown",
   "metadata": {},
   "source": [
    "## Departure points\n",
    "\n",
    "- Option 1: Run these first two cells, first to interactively select departure points and then save it in the correct format. A file with the name dep_points.py will be generated and used in the simulation. It can be downloaded and used in future simulations (using option 2).\n",
    "- Option 2: Upload a python file with the name dep_points that should contain a list of lists with coordinate pairs (lat/lon)\n"
   ]
  },
  {
   "cell_type": "markdown",
   "metadata": {},
   "source": [
    "### Option 1\n",
    "If you want to make a different selection of departure points, run the cell again rather than using the option to remove all points."
   ]
  },
  {
   "cell_type": "code",
   "execution_count": 73,
   "metadata": {
    "scrolled": false
   },
   "outputs": [
    {
     "data": {
      "application/vnd.jupyter.widget-view+json": {
       "model_id": "decdf5547d9c4953ac0e1d6e913e4ef7",
       "version_major": 2,
       "version_minor": 0
      },
      "text/plain": [
       "Map(center=[0.0, 0.0], controls=(ZoomControl(options=['position', 'zoom_in_text', 'zoom_in_title', 'zoom_out_t…"
      ]
     },
     "metadata": {},
     "output_type": "display_data"
    }
   ],
   "source": [
    "%run functions_tuesday_presentation.ipynb\n",
    "pick_departure_points()"
   ]
  },
  {
   "cell_type": "code",
   "execution_count": 74,
   "metadata": {},
   "outputs": [],
   "source": [
    "csv_to_geojson()"
   ]
  },
  {
   "cell_type": "markdown",
   "metadata": {},
   "source": [
    "### Option 2"
   ]
  },
  {
   "cell_type": "code",
   "execution_count": 53,
   "metadata": {},
   "outputs": [],
   "source": [
    "%run functions_tuesday_presentation.ipynb\n",
    "py_to_geojson()"
   ]
  },
  {
   "cell_type": "markdown",
   "metadata": {},
   "source": [
    "## Run simulation given the departure points\n",
    "Run the cell, specify all parameters and click on \"Run simulation\""
   ]
  },
  {
   "cell_type": "code",
   "execution_count": 75,
   "metadata": {},
   "outputs": [
    {
     "data": {
      "application/vnd.jupyter.widget-view+json": {
       "model_id": "7cea222207b14590be5768b9a23ee79b",
       "version_major": 2,
       "version_minor": 0
      },
      "text/plain": [
       "Output()"
      ]
     },
     "metadata": {},
     "output_type": "display_data"
    }
   ],
   "source": [
    "widget_ocean_modelling_option()"
   ]
  },
  {
   "cell_type": "code",
   "execution_count": null,
   "metadata": {},
   "outputs": [],
   "source": []
  }
 ],
 "metadata": {
  "kernelspec": {
   "display_name": "Python 3",
   "language": "python",
   "name": "python3"
  },
  "language_info": {
   "codemirror_mode": {
    "name": "ipython",
    "version": 3
   },
   "file_extension": ".py",
   "mimetype": "text/x-python",
   "name": "python",
   "nbconvert_exporter": "python",
   "pygments_lexer": "ipython3",
   "version": "3.8.3"
  }
 },
 "nbformat": 4,
 "nbformat_minor": 4
}
