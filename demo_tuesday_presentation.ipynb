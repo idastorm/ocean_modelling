{
 "cells": [
  {
   "cell_type": "markdown",
   "metadata": {},
   "source": [
    "<h1>Ocean drift model</h1>\n",
    "<p style=\"font-size:17px;\">The model simulates ocean drift based on currents, winds and vessel type.\n",
    "Every day the expected speed and direction of the vessel is calculated and given a new position in accordance. \n",
    "The displacements from day to day result in vessel trajectories which are displayed as lines in the resulting map.\n",
    "Hovering over the trajectories will show the length in kilometers of the trajectory and the average speed. The length of the \n",
    "simulation in time is limited to the input parameter \"Max journey length\" which is specified by the user. If a vessel reaches land \n",
    "or travels outside the user specified simulation area before then, the simulation will end for that vessel. <br>\n",
    "\"Launch interval\" is another parameter in the model and indicates how often new vessels should be launched in the simulation.\n",
    "The first launch of vessels will happen during the user specified start date, and then for example every five days if \n",
    "the launch interval is set to five. <br><br>\n",
    "Start the simulation by drawing a rectangle over the area in which the vessels can drift, specify all the parameters,\n",
    "and click on \"Run simulation\". Depending on the input parameters, it can take a while: the progress bar will indicate \n",
    "how much longer it will take to finish. </p>"
   ]
  },
  {
   "cell_type": "code",
   "execution_count": 18,
   "metadata": {},
   "outputs": [
    {
     "data": {
      "application/vnd.jupyter.widget-view+json": {
       "model_id": "8d3050ac40854b46a7caa58fed30cb47",
       "version_major": 2,
       "version_minor": 0
      },
      "text/plain": [
       "Output()"
      ]
     },
     "metadata": {},
     "output_type": "display_data"
    }
   ],
   "source": [
    "%run functions_tuesday_presentation.ipynb\n",
    "widget_ocean_modelling_option()"
   ]
  },
  {
   "cell_type": "code",
   "execution_count": null,
   "metadata": {},
   "outputs": [],
   "source": []
  }
 ],
 "metadata": {
  "kernelspec": {
   "display_name": "Python 3",
   "language": "python",
   "name": "python3"
  },
  "language_info": {
   "codemirror_mode": {
    "name": "ipython",
    "version": 3
   },
   "file_extension": ".py",
   "mimetype": "text/x-python",
   "name": "python",
   "nbconvert_exporter": "python",
   "pygments_lexer": "ipython3",
   "version": "3.8.3"
  }
 },
 "nbformat": 4,
 "nbformat_minor": 4
}
